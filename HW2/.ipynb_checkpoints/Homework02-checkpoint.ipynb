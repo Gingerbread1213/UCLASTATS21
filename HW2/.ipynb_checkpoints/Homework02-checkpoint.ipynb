{
 "cells": [
  {
   "cell_type": "code",
   "execution_count": null,
   "metadata": {
    "collapsed": true
   },
   "outputs": [],
   "source": []
  },
  {
   "cell_type": "markdown",
   "metadata": {},
   "source": [
    "# Stats 21 - HW 2 - Due 4/22/2023 by 11:59PM\n",
    "## Haojie Liu 905943123"
   ]
  },
  {
   "cell_type": "markdown",
   "metadata": {},
   "source": [
    "**Homework is generally an opportunity to practice coding and to train your problem solving and critical thinking skills. Putting Python to use is where learning happens.**\n",
    "\n",
    "**Copying and pasting another's solutions takes away your learning opportunities. It is also academic dishonesty.**\n",
    "\n",
    "**ChatGPT is always allowed in this class, but do remember, it is not foolproof and if your solution looks too much like another submission, I am required to file a report**\n",
    "\n",
    "Please use this document as your homework template and submit both the modified .ipynb file and a PDF export."
   ]
  },
  {
   "cell_type": "markdown",
   "metadata": {
    "tags": []
   },
   "source": [
    "## Assignment\n",
    "### 1. Data Types (2pts)\n",
    "\n",
    "Please evaluate these expressions as if you were going to evaluate them using Python **BUT TRY NOT TO** evaluate instead, look at them first and identify the result by adding a comment inline.  Of course you can evaluate them to check and correct, but do try it without Python.  I will do the first one for you"
   ]
  },
  {
   "cell_type": "code",
   "execution_count": 2,
   "metadata": {
    "tags": []
   },
   "outputs": [
    {
     "data": {
      "text/plain": [
       "bool"
      ]
     },
     "execution_count": 2,
     "metadata": {},
     "output_type": "execute_result"
    }
   ],
   "source": [
    "34 # int\n",
    "34 / 2 # float\n",
    "34 % 3 # int\n",
    "True  # bool\n",
    "'True' # str\n",
    "'True' * 4 # str\n",
    "34 < 12 # bool\n",
    "4**2 # int\n",
    "4.** # float\n",
    "'5012888748274991661034926292112253883237205694398754483388962668892510972746226260A' # str"
   ]
  },
  {
   "cell_type": "markdown",
   "metadata": {
    "tags": []
   },
   "source": [
    "If you got any of those wrong, please do stop and ask yourself why."
   ]
  },
  {
   "cell_type": "markdown",
   "metadata": {
    "tags": []
   },
   "source": [
    "### 2.Working with Strings (3pts)\n",
    "\n",
    "Please refer back to the Gettysburg Address (or any other comparably short work - like lyrics to your favorite song or some other work) and try the following questions\n",
    "\n",
    "(a) Count the words (not individual letters) it's OK to leave the punctuation in (but if you know how to remove it or want to learn, go ahead)"
   ]
  },
  {
   "cell_type": "code",
   "execution_count": 15,
   "metadata": {},
   "outputs": [
    {
     "data": {
      "text/plain": [
       "19"
      ]
     },
     "execution_count": 15,
     "metadata": {},
     "output_type": "execute_result"
    }
   ],
   "source": [
    "## answer to 3a\n",
    "\n",
    "pizza = \"Order pizza, pasta, sandwiches & more online for carryout or delivery from Domino's. View menu, find locations, track orders\"\n",
    "\n",
    "words = pizza.split()\n",
    "\n",
    "len(words)"
   ]
  },
  {
   "cell_type": "markdown",
   "metadata": {},
   "source": [
    "(b) Count the presence of any one specific word.  For example \"and\""
   ]
  },
  {
   "cell_type": "code",
   "execution_count": 17,
   "metadata": {},
   "outputs": [
    {
     "data": {
      "text/plain": [
       "1"
      ]
     },
     "execution_count": 17,
     "metadata": {},
     "output_type": "execute_result"
    }
   ],
   "source": [
    "## answer to 3b\n",
    "\n",
    "words.count(\"from\")\n",
    "\n",
    "# There is only one from in this sentence"
   ]
  },
  {
   "cell_type": "markdown",
   "metadata": {
    "tags": []
   },
   "source": [
    "(c) Please choose any word and demonstrate that you can replace it.  Recall that strings are immutable so you might want your data object to be stored as a list."
   ]
  },
  {
   "cell_type": "code",
   "execution_count": 44,
   "metadata": {},
   "outputs": [
    {
     "name": "stdout",
     "output_type": "stream",
     "text": [
      "['Order', 'pizza,', 'pasta,', 'sandwiches', '&', 'more', 'online', 'for', 'carryout', 'or', 'delivery', 'ok', \"Domino's.\", 'View', 'menu,', 'find', 'locations,', 'track', 'orders']\n"
     ]
    }
   ],
   "source": [
    "## answer to 3c\n",
    "\n",
    "for i in range(1,len(words)):\n",
    "    if words[i] == \"from\":\n",
    "        words[i] = \"ok\"\n",
    "        \n",
    "        \n",
    "        \n",
    "print(words)\n"
   ]
  },
  {
   "cell_type": "markdown",
   "metadata": {},
   "source": [
    "### 4. Generating Sequences (2pts)\n",
    "\n",
    "(a) Please show us how to generate a sequence of the first 10 positive even numbers"
   ]
  },
  {
   "cell_type": "code",
   "execution_count": 70,
   "metadata": {
    "tags": []
   },
   "outputs": [
    {
     "name": "stdout",
     "output_type": "stream",
     "text": [
      "[0, 2, 4, 6, 8, 10, 12, 14, 16, 18]\n"
     ]
    }
   ],
   "source": [
    "## answer to 4a \n",
    "\n",
    "arra = []\n",
    "for i in range(0,10):\n",
    "    arra.append(2*i)\n",
    "print(arra)"
   ]
  },
  {
   "cell_type": "markdown",
   "metadata": {},
   "source": [
    "(b) Please show us how to generate a sequence of the first 'n' powers of 2 (2^0, 2^1, 2^2, ... 2^n), where 'n' is a positive integer."
   ]
  },
  {
   "cell_type": "code",
   "execution_count": 72,
   "metadata": {
    "tags": []
   },
   "outputs": [
    {
     "name": "stdout",
     "output_type": "stream",
     "text": [
      "[0, 2, 4, 6, 8, 10, 12, 14, 16, 18]\n"
     ]
    }
   ],
   "source": [
    "## answer to 4b\n",
    "arrb = []\n",
    "n=10\n",
    "for i in range(0,n):\n",
    "    arrb.append(2*i)\n",
    "print(arrb)\n"
   ]
  },
  {
   "cell_type": "markdown",
   "metadata": {},
   "source": [
    "## 5. Conditionals (3pts)\n",
    "\n",
    "Given an integer (0-100) representing a student's grade, please write a bit of code to classify it into one of the following categories:\n",
    "\n",
    "A: 90-100\n",
    "B: 80-89\n",
    "C: 51-79\n",
    "F: 0-50\n"
   ]
  },
  {
   "cell_type": "code",
   "execution_count": 76,
   "metadata": {},
   "outputs": [
    {
     "name": "stdout",
     "output_type": "stream",
     "text": [
      "['A', 'B', 'C', 'F']\n"
     ]
    }
   ],
   "source": [
    "## please use following values to show us\n",
    "## that your classifier works\n",
    "\n",
    "student_grade = [91.2, 83, 57.3, 12]\n",
    "\n",
    "letter_grade= []\n",
    "\n",
    "for i in range(0,len(student_grade)):\n",
    "    if student_grade[i] >= 90:\n",
    "        letter_grade.append('A')\n",
    "    elif student_grade[i] >= 80:\n",
    "        letter_grade.append('B')\n",
    "    elif student_grade[i] >= 51:\n",
    "        letter_grade.append('C')\n",
    "    else:\n",
    "        letter_grade.append('F')\n",
    "\n",
    "print(letter_grade)"
   ]
  }
 ],
 "metadata": {
  "kernelspec": {
   "display_name": "Python 3 (ipykernel)",
   "language": "python",
   "name": "python3"
  },
  "language_info": {
   "codemirror_mode": {
    "name": "ipython",
    "version": 3
   },
   "file_extension": ".py",
   "mimetype": "text/x-python",
   "name": "python",
   "nbconvert_exporter": "python",
   "pygments_lexer": "ipython3",
   "version": "3.10.9"
  }
 },
 "nbformat": 4,
 "nbformat_minor": 4
}

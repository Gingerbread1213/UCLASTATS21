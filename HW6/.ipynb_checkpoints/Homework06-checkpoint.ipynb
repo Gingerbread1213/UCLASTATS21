{
 "cells": [
  {
   "cell_type": "raw",
   "metadata": {},
   "source": [
    "\\setcounter{secnumdepth}{0}"
   ]
  },
  {
   "cell_type": "markdown",
   "metadata": {},
   "source": [
    "# Stats 21 - HW 6 - Due 5/20/2023 by 11:59PM\n",
    "## Please modify this line by replacing it with your name and SID thank you."
   ]
  },
  {
   "cell_type": "markdown",
   "metadata": {},
   "source": [
    "**Homework is generally an opportunity to practice coding and to train your problem solving and critical thinking skills. Putting Python to use is where learning happens.**\n",
    "\n",
    "**Copying and pasting another's solutions takes away your learning opportunities. It is also academic dishonesty.**\n",
    "\n",
    "**ChatGPT is always allowed in this class, but do remember, it is not foolproof and if your solution looks too much like another submission, I am required to file a report**\n",
    "\n",
    "Please use this document as your homework template and submit both the modified .ipynb file and a PDF export."
   ]
  },
  {
   "cell_type": "markdown",
   "metadata": {
    "tags": []
   },
   "source": [
    "### Introduction:\n",
    "\n",
    "- Let's look at some large data on Crime\n",
    "- This is crime data from the LA County Sheriff from 2019 and 2022."
   ]
  },
  {
   "cell_type": "code",
   "execution_count": 2,
   "metadata": {
    "tags": []
   },
   "outputs": [
    {
     "name": "stderr",
     "output_type": "stream",
     "text": [
      "Fontconfig warning: ignoring UTF-8: not a valid region tag\n"
     ]
    }
   ],
   "source": [
    "### Import the necessary libraries\n",
    "\n",
    "import numpy as np\n",
    "import pandas as pd\n",
    "import matplotlib.pyplot as plt\n"
   ]
  },
  {
   "cell_type": "code",
   "execution_count": 3,
   "metadata": {
    "tags": []
   },
   "outputs": [
    {
     "data": {
      "text/plain": [
       "INCIDENT_DATE                     object\n",
       "INCIDENT_REPORTED_DATE            object\n",
       "CATEGORY                          object\n",
       "STAT                               int64\n",
       "STAT_DESC                         object\n",
       "ADDRESS                           object\n",
       "STREET                            object\n",
       "CITY                              object\n",
       "ZIP                               object\n",
       "INCIDENT_ID                       object\n",
       "REPORTING_DISTRICT                 int64\n",
       "SEQ                                int64\n",
       "GANG_RELATED                      object\n",
       "UNIT_ID                           object\n",
       "UNIT_NAME                         object\n",
       "LONGITUDE                        float64\n",
       "LATITUDE                         float64\n",
       "PART_CATEGORY                      int64\n",
       "date                      datetime64[ns]\n",
       "dtype: object"
      ]
     },
     "execution_count": 3,
     "metadata": {},
     "output_type": "execute_result"
    }
   ],
   "source": [
    "### Import the datasets 2019-PART_I_AND_II_CRIMES.csv\n",
    "### Assign to a df called crime19 and use the 'LURN_SAK' as index\n",
    "crime19 = pd.read_csv(\"2019-PART_I_AND_II_CRIMES.csv\", \n",
    "                    index_col='LURN_SAK',\n",
    "                      dtype={'ZIP': str})\n",
    "\n",
    "### create a date variable\n",
    "crime19['date'] = pd.to_datetime(crime19['INCIDENT_DATE'], \n",
    "                                 format='%m/%d/%Y %I:%M:%S %p')\n",
    "\n",
    "crime19.dtypes"
   ]
  },
  {
   "cell_type": "code",
   "execution_count": 4,
   "metadata": {
    "tags": []
   },
   "outputs": [
    {
     "data": {
      "text/plain": [
       "INCIDENT_DATE                     object\n",
       "INCIDENT_REPORTED_DATE            object\n",
       "CATEGORY                          object\n",
       "STAT                               int64\n",
       "STAT_DESC                         object\n",
       "ADDRESS                           object\n",
       "STREET                            object\n",
       "CITY                              object\n",
       "ZIP                               object\n",
       "INCIDENT_ID                       object\n",
       "REPORTING_DISTRICT                 int64\n",
       "SEQ                                int64\n",
       "GANG_RELATED                      object\n",
       "UNIT_ID                           object\n",
       "UNIT_NAME                         object\n",
       "LONGITUDE                        float64\n",
       "LATITUDE                         float64\n",
       "PART_CATEGORY                      int64\n",
       "date                      datetime64[ns]\n",
       "dtype: object"
      ]
     },
     "execution_count": 4,
     "metadata": {},
     "output_type": "execute_result"
    }
   ],
   "source": [
    "### Import the datasets 2022-PART_I_AND_II_CRIMES.csv\n",
    "### Assign to a df called crime22 and use the 'LURN_SAK' as index\n",
    "crime22 = pd.read_csv(\"2022-PART_I_AND_II_CRIMES.csv\", \n",
    "                    index_col='LURN_SAK',\n",
    "                      dtype={'ZIP': str})\n",
    "\n",
    "\n",
    "### create a date variable\n",
    "crime22['date'] = pd.to_datetime(crime22['INCIDENT_DATE'], \n",
    "                                format='%m/%d/%Y %I:%M:%S %p')\n",
    "\n",
    "crime22.dtypes"
   ]
  },
  {
   "cell_type": "code",
   "execution_count": 6,
   "metadata": {
    "tags": []
   },
   "outputs": [
    {
     "ename": "AttributeError",
     "evalue": "'DataFrame' object has no attribute 'sort'",
     "output_type": "error",
     "traceback": [
      "\u001b[0;31m---------------------------------------------------------------------------\u001b[0m",
      "\u001b[0;31mAttributeError\u001b[0m                            Traceback (most recent call last)",
      "Cell \u001b[0;32mIn[6], line 4\u001b[0m\n\u001b[1;32m      1\u001b[0m \u001b[38;5;66;03m# Problem 1. Please display the first 10 of the 2019 entries and the last 10 entries of 2022.  \u001b[39;00m\n\u001b[1;32m      2\u001b[0m \u001b[38;5;66;03m# Please sort the dataframes on 'date' before displaying the values.\u001b[39;00m\n\u001b[0;32m----> 4\u001b[0m \u001b[43mcrime19\u001b[49m\u001b[38;5;241;43m.\u001b[39;49m\u001b[43msort\u001b[49m(date)\n",
      "File \u001b[0;32m~/miniconda3/lib/python3.10/site-packages/pandas/core/generic.py:5989\u001b[0m, in \u001b[0;36mNDFrame.__getattr__\u001b[0;34m(self, name)\u001b[0m\n\u001b[1;32m   5982\u001b[0m \u001b[38;5;28;01mif\u001b[39;00m (\n\u001b[1;32m   5983\u001b[0m     name \u001b[38;5;129;01mnot\u001b[39;00m \u001b[38;5;129;01min\u001b[39;00m \u001b[38;5;28mself\u001b[39m\u001b[38;5;241m.\u001b[39m_internal_names_set\n\u001b[1;32m   5984\u001b[0m     \u001b[38;5;129;01mand\u001b[39;00m name \u001b[38;5;129;01mnot\u001b[39;00m \u001b[38;5;129;01min\u001b[39;00m \u001b[38;5;28mself\u001b[39m\u001b[38;5;241m.\u001b[39m_metadata\n\u001b[1;32m   5985\u001b[0m     \u001b[38;5;129;01mand\u001b[39;00m name \u001b[38;5;129;01mnot\u001b[39;00m \u001b[38;5;129;01min\u001b[39;00m \u001b[38;5;28mself\u001b[39m\u001b[38;5;241m.\u001b[39m_accessors\n\u001b[1;32m   5986\u001b[0m     \u001b[38;5;129;01mand\u001b[39;00m \u001b[38;5;28mself\u001b[39m\u001b[38;5;241m.\u001b[39m_info_axis\u001b[38;5;241m.\u001b[39m_can_hold_identifiers_and_holds_name(name)\n\u001b[1;32m   5987\u001b[0m ):\n\u001b[1;32m   5988\u001b[0m     \u001b[38;5;28;01mreturn\u001b[39;00m \u001b[38;5;28mself\u001b[39m[name]\n\u001b[0;32m-> 5989\u001b[0m \u001b[38;5;28;01mreturn\u001b[39;00m \u001b[38;5;28;43mobject\u001b[39;49m\u001b[38;5;241;43m.\u001b[39;49m\u001b[38;5;21;43m__getattribute__\u001b[39;49m\u001b[43m(\u001b[49m\u001b[38;5;28;43mself\u001b[39;49m\u001b[43m,\u001b[49m\u001b[43m \u001b[49m\u001b[43mname\u001b[49m\u001b[43m)\u001b[49m\n",
      "\u001b[0;31mAttributeError\u001b[0m: 'DataFrame' object has no attribute 'sort'"
     ]
    }
   ],
   "source": [
    "# Problem 1. Please display the first 10 of the 2019 entries and the last 10 entries of 2022.  \n",
    "# Please sort the dataframes on 'date' before displaying the values.\n",
    "\n",
    "crime19.sort(date)"
   ]
  },
  {
   "cell_type": "code",
   "execution_count": null,
   "metadata": {
    "tags": []
   },
   "outputs": [],
   "source": [
    "# Problem 2. How many rows and columns are in 2019 \n",
    "# and how many are in 2022?\n"
   ]
  },
  {
   "cell_type": "code",
   "execution_count": null,
   "metadata": {
    "tags": []
   },
   "outputs": [],
   "source": [
    "# Problem 3. What crime category was number #1 (most frequently committed) in 2019 \n",
    "# and what was it in 2022?)\n"
   ]
  },
  {
   "cell_type": "code",
   "execution_count": null,
   "metadata": {
    "tags": []
   },
   "outputs": [],
   "source": [
    "# Problem 4. What the most frequent incident hour in both 2019 and 2022?\n",
    "# Also find the 3 hours in the day with the lowest number of crimes (safest)\n",
    "# in both 2019 and 2022\n"
   ]
  },
  {
   "cell_type": "code",
   "execution_count": null,
   "metadata": {
    "tags": []
   },
   "outputs": [],
   "source": [
    "# Problem 5. Find the proportion (or percentage) of gang-related crimes by Category \n",
    "# and sort the values from the highest gang-related to the lowest\n",
    "# for both 2019 and 2022"
   ]
  }
 ],
 "metadata": {
  "kernelspec": {
   "display_name": "Python 3 (ipykernel)",
   "language": "python",
   "name": "python3"
  },
  "language_info": {
   "codemirror_mode": {
    "name": "ipython",
    "version": 3
   },
   "file_extension": ".py",
   "mimetype": "text/x-python",
   "name": "python",
   "nbconvert_exporter": "python",
   "pygments_lexer": "ipython3",
   "version": "3.10.9"
  }
 },
 "nbformat": 4,
 "nbformat_minor": 4
}

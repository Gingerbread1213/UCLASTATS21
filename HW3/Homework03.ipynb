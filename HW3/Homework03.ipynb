{
 "cells": [
  {
   "cell_type": "markdown",
   "metadata": {},
   "source": [
    "# Stats 21 - HW 3 - Due 4/29/2023 by 11:59PM\n",
    "## Haojie Liu 905943123"
   ]
  },
  {
   "cell_type": "markdown",
   "metadata": {},
   "source": [
    "**Homework is generally an opportunity to practice coding and to train your problem solving and critical thinking skills. Putting Python to use is where learning happens.**\n",
    "\n",
    "**Copying and pasting another's solutions takes away your learning opportunities. It is also academic dishonesty.**\n",
    "\n",
    "**ChatGPT is always allowed in this class, but do remember, it is not foolproof and if your solution looks too much like another submission, I am required to file a report**\n",
    "\n",
    "Please use this document as your homework template and submit both the modified .ipynb file and a PDF export."
   ]
  },
  {
   "cell_type": "markdown",
   "metadata": {
    "tags": []
   },
   "source": [
    "## Assignment\n",
    "### 1. Functions/lists (2pts)"
   ]
  },
  {
   "cell_type": "markdown",
   "metadata": {},
   "source": [
    "Define a function called `insert_into(listname, index, iterable)`. It will accept three arguments, a currently existing list, an index, and another list (or a tuple) that will be inserted at the index position.\n",
    "\n",
    "Python's built-in function, `list.insert()` can only insert one object."
   ]
  },
  {
   "cell_type": "code",
   "execution_count": 24,
   "metadata": {},
   "outputs": [],
   "source": [
    "# please write your code here\n",
    "\n",
    "def insert_into(listname,index,iterable):\n",
    "    newlist = list(range(0,(len(listname)+len(iterable))))\n",
    "    i = 0\n",
    "    for j in range(index-1):\n",
    "        newlist[i] = listname[j]\n",
    "        i = i+1\n",
    "    for j in range(len(iterable)):\n",
    "        newlist[i] = iterable[j]\n",
    "        i = i+1\n",
    "    for j in range(index,len(listname)):\n",
    "        newlist[i] = listname[j]\n",
    "        i = i+1\n",
    "        \n",
    "    print(newlist)"
   ]
  },
  {
   "cell_type": "code",
   "execution_count": 25,
   "metadata": {
    "tags": []
   },
   "outputs": [
    {
     "name": "stdout",
     "output_type": "stream",
     "text": [
      "[0, 'a', 'hello', 'there', 'c', 4, 5, 6, 8]\n"
     ]
    }
   ],
   "source": [
    "# do not modify. We will check this result for grading\n",
    "l = [0,'a','b','c',4,5,6]\n",
    "i = ['hello', 'there']\n",
    "insert_into(l, 3, i)"
   ]
  },
  {
   "cell_type": "markdown",
   "metadata": {},
   "source": [
    "## 2. Recursion (3pts)\n",
    "\n",
    "The Ackermann function, A(m, n), is deﬁned:\n",
    "\n",
    "$$\n",
    "A(m, n)= \\left \\{                 \n",
    "    \\begin{array}{ll}\n",
    "        n+1 & \\text{if } m = 0\\\\\n",
    "        A(m-1, 1) & \\text{if } m > 0 \\text{ and } n = 0\\\\\n",
    "        A(m-1, A(m, n-1)) & \\text{if } m > 0 \\text{ and } n > 0\\\\\n",
    "    \\end{array}\n",
    " \\right.\n",
    "$$\n",
    "\n",
    "\n",
    "See http://en.wikipedia.org/wiki/Ackermann_function . Write a function named `ack` that evaluates the Ackermann function. Use your function to evaluate a few test cases. Don't test with $m \\ge 4$ as it grows very fast very quickly."
   ]
  },
  {
   "cell_type": "code",
   "execution_count": 28,
   "metadata": {},
   "outputs": [],
   "source": [
    "def ack(m,n):\n",
    "    if m == 0:\n",
    "        return(n+1)\n",
    "    elif m>0 and n==0:\n",
    "        return(ack(m-1,1))\n",
    "    else:\n",
    "        return(ack(m-1,ack(m,n-1)))"
   ]
  },
  {
   "cell_type": "code",
   "execution_count": 29,
   "metadata": {},
   "outputs": [
    {
     "data": {
      "text/plain": [
       "61"
      ]
     },
     "execution_count": 29,
     "metadata": {},
     "output_type": "execute_result"
    }
   ],
   "source": [
    "# test case, should be 61\n",
    "ack(3, 3)"
   ]
  },
  {
   "cell_type": "code",
   "execution_count": 30,
   "metadata": {},
   "outputs": [
    {
     "data": {
      "text/plain": [
       "125"
      ]
     },
     "execution_count": 30,
     "metadata": {},
     "output_type": "execute_result"
    }
   ],
   "source": [
    "# test case, should be 125\n",
    "ack(3, 4)"
   ]
  },
  {
   "cell_type": "markdown",
   "metadata": {},
   "source": [
    "## 3. String search (2 pts)\n",
    "\n",
    "Please download list of words word_list.txt:\n",
    "\n",
    "https://github.com/lewv/SP23STAT21/blob/main/WEEK03/word_list.txt\n",
    "\n",
    "The write code that reads `word_list.txt` and prints out only the words with at least 10 characters."
   ]
  },
  {
   "cell_type": "code",
   "execution_count": 45,
   "metadata": {},
   "outputs": [
    {
     "name": "stdout",
     "output_type": "stream",
     "text": [
      "administration\n",
      "collection\n",
      "commercial\n",
      "conference\n",
      "democratic\n",
      "development\n",
      "difference\n",
      "discussion\n",
      "environment\n",
      "environmental\n",
      "especially\n",
      "everything\n",
      "experience\n",
      "generation\n",
      "government\n",
      "individual\n",
      "information\n",
      "institution\n",
      "interesting\n",
      "international\n",
      "investment\n",
      "management\n",
      "opportunity\n",
      "organization\n",
      "participant\n",
      "particular\n",
      "particularly\n",
      "performance\n",
      "population\n",
      "production\n",
      "professional\n",
      "relationship\n",
      "Republican\n",
      "responsibility\n",
      "significant\n",
      "successful\n",
      "technology\n",
      "television\n",
      "themselves\n",
      "throughout\n",
      "traditional\n",
      "understand\n"
     ]
    }
   ],
   "source": [
    "# please write your code here\n",
    "\n",
    "file = open(\"word_list.txt\", \"r\")\n",
    "\n",
    "contents = file.read().split()\n",
    "\n",
    "\n",
    "for i in contents:\n",
    "    if len(i)>=10:\n",
    "        print(i)\n"
   ]
  },
  {
   "cell_type": "markdown",
   "metadata": {},
   "source": [
    "## 4. Removing duplicates (3 pts)\n",
    "\n",
    "Write a function called `no_dups` that takes a list and returns a new list with duplicates removed. It should not modify the original list.\n",
    "\n",
    "You can assume that the list will not have nested lists."
   ]
  },
  {
   "cell_type": "code",
   "execution_count": 70,
   "metadata": {},
   "outputs": [],
   "source": [
    "import string\n",
    "\n",
    "def no_dups(t):\n",
    "    \n",
    "    newlist = []\n",
    "    \n",
    "    for i in t:\n",
    "        if i not in newlist:\n",
    "            newlist.append(i)\n",
    "    \n",
    "    print(newlist)"
   ]
  },
  {
   "cell_type": "code",
   "execution_count": 71,
   "metadata": {},
   "outputs": [
    {
     "name": "stdout",
     "output_type": "stream",
     "text": [
      "['a', 'b', 'c']\n"
     ]
    }
   ],
   "source": [
    "no_dups(['a','b','c'])"
   ]
  },
  {
   "cell_type": "code",
   "execution_count": 72,
   "metadata": {},
   "outputs": [
    {
     "name": "stdout",
     "output_type": "stream",
     "text": [
      "[-9, -5, 20, 12, 13, 4, 16, -7, 9, 8, 11, 7, 2, -1, -3, 6, -4, 0, 15, -10, 1, 5, 14, 19, -8, 3, -2, 10, -6]\n"
     ]
    }
   ],
   "source": [
    "no_dups([-9, -5, 20, 12, 13, 4, 16, -7, 16, 12, 9, 8, 11, \n",
    "         7, -7, 11, 2, 20, 8, -1, -3, 6, -4, 6, 0, 15, -10,\n",
    "         2, 6, 4, 7, 1, -1, -1, -5, 5, 15, 14, 12, 9, 0, 2,\n",
    "         6, -10, 7, 20, 5, -9, -3, 2, 19, 11, -8, 12, 15, 3,\n",
    "         -2, 11, 14, 8, 5, 10, 8, -3, 2, 19, 4, 11, 20, -2, 0,\n",
    "         -8, -8, 8, 7, -5, -1, 1, -9, 5, 19, -4, 14, 15, 16, 2,\n",
    "         5, 8, 8, 15, 7, -10, 3, 10, -10, -6, -9, 6, -7, 9])"
   ]
  },
  {
   "cell_type": "code",
   "execution_count": 73,
   "metadata": {},
   "outputs": [
    {
     "name": "stdout",
     "output_type": "stream",
     "text": [
      "['a', 'b', 'c', 16, -7, 12]\n"
     ]
    }
   ],
   "source": [
    "no_dups(['a','b','c','a', 16, -7, 16, 12])"
   ]
  }
 ],
 "metadata": {
  "kernelspec": {
   "display_name": "Python 3 (ipykernel)",
   "language": "python",
   "name": "python3"
  },
  "language_info": {
   "codemirror_mode": {
    "name": "ipython",
    "version": 3
   },
   "file_extension": ".py",
   "mimetype": "text/x-python",
   "name": "python",
   "nbconvert_exporter": "python",
   "pygments_lexer": "ipython3",
   "version": "3.10.9"
  }
 },
 "nbformat": 4,
 "nbformat_minor": 4
}
